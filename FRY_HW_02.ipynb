{
 "cells": [
  {
   "cell_type": "markdown",
   "id": "ef2d4aac-34d7-4a7f-a5f7-bfedf39cc50f",
   "metadata": {},
   "source": [
    "### Homework 02\n",
    "#### Benjamin Fry (bfry2@jhu.edu)\n",
    "#### Advanced Seminar in Membrane Structure, Function, and Pharmacology\n",
    "#### 09/20/21"
   ]
  },
  {
   "cell_type": "code",
   "execution_count": 1,
   "id": "c99f8fa9-c8a1-4b71-ba2c-f3e14da1ac33",
   "metadata": {},
   "outputs": [],
   "source": [
    "import numpy as np\n",
    "import matplotlib.pyplot as plt\n",
    "from scipy.optimize import curve_fit"
   ]
  },
  {
   "cell_type": "markdown",
   "id": "e5afb52e-20f3-4c43-8683-15b031534461",
   "metadata": {},
   "source": [
    "### Question 1\n",
    "Record delta G values from table 2 with corresponding m"
   ]
  },
  {
   "cell_type": "code",
   "execution_count": 2,
   "id": "c314f137-6ff5-4028-a8eb-b78ee0c91204",
   "metadata": {},
   "outputs": [],
   "source": [
    "m = [1, 2, 3, 4, 5, 6]\n",
    "dG_from_bilayer = [3.17, 3.44, 4.05, 4.81, 5.28, 6.10]"
   ]
  },
  {
   "cell_type": "markdown",
   "id": "93652dc5-417f-4ca7-b9f3-6b6d6d34433b",
   "metadata": {},
   "source": [
    "Fit data to line and report fitted parameters with standard error."
   ]
  },
  {
   "cell_type": "code",
   "execution_count": 3,
   "id": "e183e67f-8dfe-40bc-b0ae-305c7777261c",
   "metadata": {},
   "outputs": [
    {
     "name": "stdout",
     "output_type": "stream",
     "text": [
      "slope: 0.60 ± 0.04\n",
      "intercept: 1.78 ± 0.18\n"
     ]
    }
   ],
   "source": [
    "guess_slope_int = [3/5, 2.5]\n",
    "def linear_fit(x, m, b):\n",
    "    return m*x + b\n",
    "popt, pcov = curve_fit(linear_fit, [x+1 for x in m], dG_from_bilayer, guess_slope_int)\n",
    "slope = popt[0]\n",
    "perr = np.sqrt(np.diag(pcov))\n",
    "print(f\"slope: {popt[0]:0.2f} ± {perr[0]:0.2f}\")\n",
    "print(f\"intercept: {popt[1]:0.2f} ± {perr[1]:0.2f}\")"
   ]
  },
  {
   "cell_type": "markdown",
   "id": "f6f14aa1-a6e7-42d8-8b1f-11ad921de147",
   "metadata": {},
   "source": [
    "Recreate Paper Figure 1"
   ]
  },
  {
   "cell_type": "code",
   "execution_count": 4,
   "id": "9b881210-51fc-40a9-9b91-2a26137cec3e",
   "metadata": {},
   "outputs": [
    {
     "data": {
      "image/png": "[encoded data removed]",
      "text/plain": [
       "<Figure size 432x288 with 1 Axes>"
      ]
     },
     "metadata": {
      "needs_background": "light"
     },
     "output_type": "display_data"
    }
   ],
   "source": [
    "fit_x_data = np.linspace(1.7, 7.3, 1000)\n",
    "fit_y_data = linear_fit(fit_x_data, *popt)\n",
    "plt.plot(fit_x_data, fit_y_data, 'k')\n",
    "plt.plot([x + 1 for x in m], dG_from_bilayer, 'sk')\n",
    "plt.axis([1, 8, 1, 7])\n",
    "plt.ylabel(\"$\\Delta G$ (bilayer to water, kcal/mol)\")\n",
    "plt.xlabel(\"peptide length (m+1)\");\n",
    "plt.title(\"$AxWL_m$\");\n",
    "plt.legend((f\"Fit Line: $\\Delta G$ = {popt[0]:.2f}x + {popt[1]:.2f}\", \"Observed Data\"));"
   ]
  },
  {
   "cell_type": "markdown",
   "id": "9b8daad5-345d-4a78-a5b2-9684ebc73c5d",
   "metadata": {},
   "source": [
    "### Question 2\n",
    "calculate energy of protonating the carboxy terminus at ph 8.0\n",
    "\n",
    "Start by recording the free energy change for GLY, ALA, SER, and THR (uncharged residues) and calculating average difference between the transition from pH 8 to pH 2 to get free energy of protonation."
   ]
  },
  {
   "cell_type": "code",
   "execution_count": 5,
   "id": "460d0f6f-5de9-458c-9760-e10e91101fda",
   "metadata": {},
   "outputs": [],
   "source": [
    "labels = [\"GLY\", \"ALA\", \"SER\", \"THR\"]\n",
    "dG_8 = [4.24, 4.08, 4.12, 4.11]\n",
    "dG_2 = [6.70, 6.94, 6.94, 6.67]"
   ]
  },
  {
   "cell_type": "markdown",
   "id": "5cecd77d-8852-44d1-a210-5e36e977959f",
   "metadata": {},
   "source": [
    "Calculate the average diffrence and output findings.<br>\n",
    "protonation_energy = dG_protonated - dG_unprotonated"
   ]
  },
  {
   "cell_type": "code",
   "execution_count": 6,
   "id": "b4068190-704c-456e-8e57-f463c325fa62",
   "metadata": {},
   "outputs": [
    {
     "name": "stdout",
     "output_type": "stream",
     "text": [
      "Free energy of protonation of COO: 2.675 kcal/mol\n"
     ]
    }
   ],
   "source": [
    "dG_diff = sum([y - x for x,y in zip(dG_8, dG_2)])/len(labels)\n",
    "print(f\"Free energy of protonation of COO: {dG_diff} kcal/mol\")"
   ]
  },
  {
   "cell_type": "markdown",
   "id": "03370fe5-eda2-42b0-be58-6df78095e3b9",
   "metadata": {},
   "source": [
    "### Question 3\n",
    "Define a function to calculate residue delta G given the delta G of the residue in the pentapeptide, the all leucine pentapeptide, and the ddG of leucine calculated as the slope of the plot in question 1 as reported in the paper."
   ]
  },
  {
   "cell_type": "code",
   "execution_count": 7,
   "id": "5c9f6770-ee6c-4479-9523-a0ce8f39639c",
   "metadata": {},
   "outputs": [],
   "source": [
    "def calculate_residue_deltaG(dG_ph8_WLXLL, dG_ph8_WLLLL, ddG_Leu):\n",
    "    return ddG_Leu + (dG_ph8_WLXLL - dG_ph8_WLLLL)"
   ]
  },
  {
   "cell_type": "markdown",
   "id": "3e89d873-26ad-42ed-9977-6332648e6b8b",
   "metadata": {},
   "source": [
    "Record free energies for calculation from table 1 and slope as reported in paper."
   ]
  },
  {
   "cell_type": "code",
   "execution_count": 8,
   "id": "76b2aaf8-ce37-4e02-9796-2d9845954bd5",
   "metadata": {},
   "outputs": [
    {
     "name": "stdout",
     "output_type": "stream",
     "text": [
      "Delta G of Methionine: 0.230 kcal/mol\n"
     ]
    }
   ],
   "source": [
    "ddG_leu = 0.56 #slope of fit in figure 1 as reported by paper.\n",
    "dG_ph8_WLMLL = 4.48\n",
    "dG_ph8_WLLLL = 4.81\n",
    "methionine_residue_dG = calculate_residue_deltaG(dG_ph8_WLMLL, dG_ph8_WLLLL, ddG_leu)\n",
    "print(f\"Delta G of Methionine: {methionine_residue_dG:0.3f} kcal/mol\")"
   ]
  },
  {
   "cell_type": "markdown",
   "id": "05dd8c88-23aa-4e88-88c0-a83cc9512ea0",
   "metadata": {},
   "source": [
    "### Question 4"
   ]
  },
  {
   "cell_type": "code",
   "execution_count": 9,
   "id": "cb995d61-cb50-4c47-aba7-727d02163d4a",
   "metadata": {},
   "outputs": [],
   "source": [
    "def calculate_residue_deltaG_ph2(dG_ph2_WLXLL, dG_ph8_WLLLL, ddG_Leu, dG_COO):\n",
    "    return ddG_Leu + (dG_ph2_WLXLL - (dG_ph8_WLLLL - dG_COO))"
   ]
  },
  {
   "cell_type": "code",
   "execution_count": 10,
   "id": "6f1b9afb-4b44-4c8f-9ae4-95e0a55f1ae0",
   "metadata": {},
   "outputs": [
    {
     "name": "stdout",
     "output_type": "stream",
     "text": [
      "Delta G of Arginine: -0.810 kcal/mol\n"
     ]
    }
   ],
   "source": [
    "ddG_leu = 0.56 #slope of fit in figure 1 as reported by paper.\n",
    "dG_COO = -2.68 #free energy change of protonating COO.\n",
    "dG_ph2_WLRLL = 6.12 \n",
    "dG_ph8_WLLLL = 4.81\n",
    "arg_residue_dG = calculate_residue_deltaG_ph2(dG_ph2_WLRLL, dG_ph8_WLLLL, ddG_leu, dG_COO)\n",
    "print(f\"Delta G of Arginine: {arg_residue_dG:0.3f} kcal/mol\")"
   ]
  },
  {
   "cell_type": "markdown",
   "id": "24b42cda-5ae8-4cbe-8f78-9e546e310e2f",
   "metadata": {},
   "source": [
    "### Question 5\n",
    "Create lookup table for deltaG values at pH8<br>\n",
    "Swap signs from table 1 to get water to bilayer partitioning."
   ]
  },
  {
   "cell_type": "code",
   "execution_count": 11,
   "id": "0c7aa276-32d1-4f0a-9f17-df49bb616021",
   "metadata": {},
   "outputs": [],
   "source": [
    "dG_ph8 = {\n",
    "    \"A\": 0.17,\n",
    "    \"R\": 0.81,\n",
    "    \"N\": 0.42,\n",
    "    \"D\": 1.23,\n",
    "    \"C\":  -0.24,\n",
    "    \"Q\": 0.58,\n",
    "    \"E\": 2.02,\n",
    "    \"G\": 0.01,\n",
    "    \"H\": 0.17,\n",
    "    \"I\":  -0.31,\n",
    "    \"L\":  -0.56,\n",
    "    \"K\": 0.99,\n",
    "    \"M\":  -0.23,\n",
    "    \"F\":  -1.13,\n",
    "    \"P\": 0.45,\n",
    "    \"S\": 0.13,\n",
    "    \"T\": 0.14,\n",
    "    \"W\":  -1.85,\n",
    "    \"Y\":  -0.94,\n",
    "    \"V\": 0.07\n",
    "}"
   ]
  },
  {
   "cell_type": "markdown",
   "id": "c1205273-561a-4f01-b4d2-ccb74b1a6328",
   "metadata": {},
   "source": [
    "Create string containing name"
   ]
  },
  {
   "cell_type": "code",
   "execution_count": 12,
   "id": "75cf3fc4-20f2-4330-b715-d11179bb024b",
   "metadata": {},
   "outputs": [],
   "source": [
    "myName = \"BENJAMIN FRY\""
   ]
  },
  {
   "cell_type": "markdown",
   "id": "7f6a9a2c-ed63-45fa-9f7c-b2eb8aeb25a9",
   "metadata": {},
   "source": [
    "Iterate through string, skipping letters that don't correspond to one letter codes. Sum free energy of interface partitioning."
   ]
  },
  {
   "cell_type": "code",
   "execution_count": 13,
   "id": "62b3e0a4-afa0-44b2-a32e-4205dc3bd84f",
   "metadata": {},
   "outputs": [],
   "source": [
    "energy_sum = 0\n",
    "for c in myName:\n",
    "    try:\n",
    "        energy_sum += dG_ph8[c]\n",
    "    except(KeyError):\n",
    "        continue"
   ]
  },
  {
   "cell_type": "code",
   "execution_count": 14,
   "id": "beafecad-6083-4577-82f1-900b923d62f3",
   "metadata": {},
   "outputs": [
    {
     "name": "stdout",
     "output_type": "stream",
     "text": [
      "BENJAMIN FRY's water to bilayer DG is +1.23 kcal/mol. I love the water!\n"
     ]
    }
   ],
   "source": [
    "def exclamation(dG):\n",
    "    if dG > 0:\n",
    "        return \"I love the water\"\n",
    "    elif dG < 0:\n",
    "        return \"I love the interface\"\n",
    "    else:\n",
    "        return \"I love both the water and the interface\"\n",
    "    \n",
    "output_string = f\"{myName}'s water to bilayer DG is {'+' if energy_sum > 0 else ''}{energy_sum:0.2f} kcal/mol. {exclamation(energy_sum)}!\"\n",
    "print(output_string)"
   ]
  },
  {
   "cell_type": "markdown",
   "id": "855b3636-731f-4fae-82aa-d4d849b5dd14",
   "metadata": {},
   "source": [
    "Recalculate energy for name peptide at pH = 2"
   ]
  },
  {
   "cell_type": "code",
   "execution_count": 15,
   "id": "64a1c997-d3d5-4075-903a-0d6d6b56cd30",
   "metadata": {},
   "outputs": [
    {
     "name": "stdout",
     "output_type": "stream",
     "text": [
      "BENJAMIN FRY's water to bilayer DG is -0.80 kcal/mol. I love the interface!\n"
     ]
    }
   ],
   "source": [
    "dG_ph2 = {\n",
    "    \"A\": 0.17,\n",
    "    \"R\": 0.81,\n",
    "    \"N\": 0.42,\n",
    "    \"D\": -0.07,\n",
    "    \"C\":  -0.24,\n",
    "    \"Q\": 0.58,\n",
    "    \"E\": -0.01,\n",
    "    \"G\": 0.01,\n",
    "    \"H\": 0.96,\n",
    "    \"I\":  -0.31,\n",
    "    \"L\":  -0.56,\n",
    "    \"K\": 0.99,\n",
    "    \"M\":  -0.23,\n",
    "    \"F\":  -1.13,\n",
    "    \"P\": 0.45,\n",
    "    \"S\": 0.13,\n",
    "    \"T\": 0.14,\n",
    "    \"W\":  -1.85,\n",
    "    \"Y\":  -0.94,\n",
    "    \"V\": 0.07\n",
    "}\n",
    "energy_sum = 0\n",
    "for c in myName:\n",
    "    try:\n",
    "        energy_sum += dG_ph2[c]\n",
    "    except(KeyError):\n",
    "        continue\n",
    "output_string = f\"{myName}'s water to bilayer DG is {'+' if energy_sum > 0 else ''}{energy_sum:0.2f} kcal/mol. {exclamation(energy_sum)}!\"\n",
    "print(output_string)"
   ]
  },
  {
   "cell_type": "markdown",
   "id": "0fd694d1-ca59-43a8-ad65-99495ae31951",
   "metadata": {},
   "source": [
    "At pH2, this peptide would associate with the interface while it would prefer the water at ph8"
   ]
  },
  {
   "cell_type": "markdown",
   "id": "33eac288-3675-4937-830e-1a937e9b996e",
   "metadata": {},
   "source": [
    "### Question 6\n",
    "Record concentrations, convert to milliMolar"
   ]
  },
  {
   "cell_type": "code",
   "execution_count": 16,
   "id": "fed57543-3590-408b-9f10-40208dd475d5",
   "metadata": {},
   "outputs": [],
   "source": [
    "C_vesicles = 1 #mM\n",
    "#C_peptide_ves = 30 * 10**-3 #mM\n",
    "C_peptide_ves = 3 * 10**-3 #mM after correction from Lucas\n",
    "\n",
    "#C_peptide_aq = 18.5 * 10**-6 #mM\n",
    "C_peptide_aq = 1.96 * 10**-3 #mM after correction from Lucas\n",
    "\n",
    "C_water = 55.3 * 10 ** 3 #mM\n",
    "\n",
    "T = 25 + 273.15 #Temp in K\n",
    "R = 1.985 * 10**-3 #R in kcal/mol*K\n",
    "pH = 8.0"
   ]
  },
  {
   "cell_type": "markdown",
   "id": "0353fca6-d32d-494f-9737-4058cd12b2bb",
   "metadata": {},
   "source": [
    "Calculate Delta G using experimental parameters via equilibrium constant of partitioning"
   ]
  },
  {
   "cell_type": "code",
   "execution_count": 17,
   "id": "d6c69187-41cc-46bf-b206-96f317b36c90",
   "metadata": {},
   "outputs": [
    {
     "name": "stdout",
     "output_type": "stream",
     "text": [
      "Delta G of Partitioning for WLXLL Peptide: 6.211 kcal/mol\n"
     ]
    }
   ],
   "source": [
    "K_x = (C_peptide_ves * C_vesicles) / (C_peptide_aq * C_water)\n",
    "deltaG = -R*T*np.log(K_x)\n",
    "print(f\"Delta G of Partitioning for WLXLL Peptide: {deltaG:0.3f} kcal/mol\")"
   ]
  },
  {
   "cell_type": "markdown",
   "id": "b22d3aa8-f18b-4e49-b281-bdf21405c955",
   "metadata": {},
   "source": [
    "The unknown residue is TRP since this is the residue with a free energy of partitioning (6.10 +/- 0.02) at pH=8.0 that falls closest to 6.211"
   ]
  },
  {
   "cell_type": "markdown",
   "id": "5b515284-a6f0-4258-8746-b48b4f67c22a",
   "metadata": {},
   "source": [
    "Therefore the sequence of the peptide is AcWLWLL"
   ]
  },
  {
   "cell_type": "markdown",
   "id": "540ef617-5fa0-4fcd-8f10-d9b3ad474ec4",
   "metadata": {},
   "source": [
    "### Question 7\n",
    "Completed [form](https://docs.google.com/forms/d/e/1FAIpQLScTVdMzr12veKo8St5rNyxWlSG2nC-kDo7Zm_tApGkOWrta9Q) 5 times for 5 different TIBS Articles."
   ]
  }
 ],
 "metadata": {
  "kernelspec": {
   "display_name": "Python 3",
   "language": "python",
   "name": "python3"
  },
  "language_info": {
   "codemirror_mode": {
    "name": "ipython",
    "version": 3
   },
   "file_extension": ".py",
   "mimetype": "text/x-python",
   "name": "python",
   "nbconvert_exporter": "python",
   "pygments_lexer": "ipython3",
   "version": "3.7.6"
  }
 },
 "nbformat": 4,
 "nbformat_minor": 5
}
