{
 "cells": [
  {
   "cell_type": "markdown",
   "id": "203f86a5-605f-4f19-a0cb-bdf73699c43e",
   "metadata": {},
   "source": [
    "### Homework 04\n",
    "#### Benjamin Fry (bfry2@jhu.edu)\n",
    "#### Advanced Seminar in Membrane Structure, Function, and Pharmacology\n",
    "#### 09/27/21"
   ]
  },
  {
   "cell_type": "code",
   "execution_count": 1,
   "id": "1fb34140-aa5d-4182-9deb-23b3d90386b6",
   "metadata": {},
   "outputs": [],
   "source": [
    "import numpy as np\n",
    "import matplotlib.pyplot as plt\n",
    "from scipy.optimize import curve_fit"
   ]
  },
  {
   "cell_type": "markdown",
   "id": "99d17b7c-54bf-4d47-9cdf-54158889a0ea",
   "metadata": {},
   "source": [
    "### Question 1\n",
    "Recreating Figure 5:\n",
    "List all residues with corresponding free energy. Also record error bars into their own dict."
   ]
  },
  {
   "cell_type": "code",
   "execution_count": 15,
   "id": "047014af-42e7-4722-be45-b2cb15ffa2ad",
   "metadata": {},
   "outputs": [],
   "source": [
    "ddGsc = {\"A\": -1.73, \"C\": -2.45, \"D\": 0.77, \"E\": -0.54, \"F\": -4.17, \"G\": -0.09, \"H\": 1.60, \"I\": -3.90, \"K\": 1.81, \"L\": -3.74, \"M\": -2.88, \n",
    "         \"N\": 1.22, \"P\": 2.09, \"Q\": 0.81, \"R\": 1.49, \"S\": 0.11, \"T\": -0.78, \"V\": -3.48, \"W\": -3.93, \"Y\": -2.75}\n",
    "\n",
    "ddGsc_err = { \"A\": 0.02, \"C\": 0.04, \"D\": 0.09, \"E\": 0.14, \"F\": 0.07, \"G\": 0.11, \"H\": 0.12, \"I\": 0.15, \"K\": 0.08, \"L\": 0.13, \"M\": 0.21, \n",
    "              \"N\": 0.03, \"P\": 0.07, \"Q\": 0.03, \"R\": 0.06, \"S\": 0.04, \"T\": 0.05, \"V\": 0.12, \"W\": 0.02, \"Y\": 0.28}\n",
    "\n",
    "\n",
    "# sort by ddG\n",
    "pairlist = list(ddGsc.items())\n",
    "pairlist.sort(key = lambda x: x[1])\n",
    "names = [x[0] for x in pairlist]\n",
    "pairlist_error = [ddGsc_err[x] for x in names]\n",
    "values = [x[1] for x in pairlist]"
   ]
  },
  {
   "cell_type": "markdown",
   "id": "346d6f99-c2aa-4b33-86f5-ec15a12c097b",
   "metadata": {},
   "source": [
    "Grab the rgb values from figure 5 and convert them to pyplot range, associate each with residue for plot coloring"
   ]
  },
  {
   "cell_type": "code",
   "execution_count": 3,
   "id": "e2102fad-ee0a-4626-9acd-9766189be10c",
   "metadata": {},
   "outputs": [],
   "source": [
    "def convert(tup):\n",
    "    #Pull RGB values from the paper to get same colors\n",
    "    return (tup[0]/255, tup[1]/255, tup[2]/255)\n",
    "    \n",
    "grey = convert((99, 99, 99))\n",
    "yellow = convert((245, 199, 49))\n",
    "blue = convert((87, 103, 178))\n",
    "orange = convert((215, 91, 46))\n",
    "\n",
    "ddGsc_color = { \"A\": grey, \"C\": yellow, \"D\": blue, \"E\": blue, \"F\": grey, \"G\": yellow, \"H\": blue, \"I\": grey, \"K\": blue, \"L\": grey, \"M\": grey,  \n",
    "               \"N\": orange, \"P\": grey, \"Q\": orange, \"R\": blue, \"S\": orange, \"T\": orange, \"V\": grey, \"W\": grey, \"Y\": grey}"
   ]
  },
  {
   "cell_type": "markdown",
   "id": "07386381-00ce-4ec4-ab31-961e7bdc590a",
   "metadata": {},
   "source": [
    "Plot the energies as found in figure 5 with proper colors and erorr bars."
   ]
  },
  {
   "cell_type": "code",
   "execution_count": 14,
   "id": "aee9114c-95ba-4212-9abb-c7f46909c1c3",
   "metadata": {},
   "outputs": [
    {
     "data": {
      "image/png": "[encoded data removed]",
      "text/plain": [
       "<Figure size 432x288 with 1 Axes>"
      ]
     },
     "metadata": {
      "needs_background": "light"
     },
     "output_type": "display_data"
    }
   ],
   "source": [
    "barlist = plt.bar(names, values, linewidth=1.25, edgecolor=\"black\", yerr=pairlist_error, capsize=3)\n",
    "for i, x in enumerate(names):\n",
    "    barlist[i].set_color(ddGsc_color[x])\n",
    "    barlist[i].set_ec(\"black\")\n",
    "\n",
    "plt.axis([-.5, 19.5, -5, 3])\n",
    "plt.ylabel(\"PagP V111 Side Chain $\\Delta \\Delta G_{sc}$ (kcal/mol)\");\n",
    "plt.show()"
   ]
  },
  {
   "cell_type": "markdown",
   "id": "c8e9ee02-2196-427b-aeb0-95c11e5041f9",
   "metadata": {},
   "source": [
    "### Question 2"
   ]
  },
  {
   "cell_type": "code",
   "execution_count": null,
   "id": "c25a13e6-8f7b-4e45-a0f7-338192fe1b13",
   "metadata": {},
   "outputs": [],
   "source": []
  }
 ],
 "metadata": {
  "kernelspec": {
   "display_name": "Python 3",
   "language": "python",
   "name": "python3"
  },
  "language_info": {
   "codemirror_mode": {
    "name": "ipython",
    "version": 3
   },
   "file_extension": ".py",
   "mimetype": "text/x-python",
   "name": "python",
   "nbconvert_exporter": "python",
   "pygments_lexer": "ipython3",
   "version": "3.7.6"
  }
 },
 "nbformat": 4,
 "nbformat_minor": 5
}
